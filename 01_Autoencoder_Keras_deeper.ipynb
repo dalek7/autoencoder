{
 "cells": [
  {
   "cell_type": "code",
   "execution_count": 1,
   "metadata": {},
   "outputs": [],
   "source": [
    "import warnings\n",
    "warnings.filterwarnings(\"ignore\")"
   ]
  },
  {
   "cell_type": "code",
   "execution_count": 2,
   "metadata": {},
   "outputs": [
    {
     "name": "stderr",
     "output_type": "stream",
     "text": [
      "Using TensorFlow backend.\n"
     ]
    }
   ],
   "source": [
    "from keras.layers import Input, Dense\n",
    "from keras.models import Model"
   ]
  },
  {
   "cell_type": "code",
   "execution_count": 3,
   "metadata": {},
   "outputs": [],
   "source": [
    "#use_sparsity_constraint = True\n",
    "nb_epoch = 100"
   ]
  },
  {
   "cell_type": "code",
   "execution_count": 4,
   "metadata": {},
   "outputs": [
    {
     "name": "stderr",
     "output_type": "stream",
     "text": [
      "WARNING: Logging before flag parsing goes to stderr.\n",
      "W0821 22:57:35.530014 140148418574080 deprecation_wrapper.py:119] From /home/seung/.venv/py3Keras/lib/python3.5/site-packages/keras/backend/tensorflow_backend.py:74: The name tf.get_default_graph is deprecated. Please use tf.compat.v1.get_default_graph instead.\n",
      "\n",
      "W0821 22:57:35.548345 140148418574080 deprecation_wrapper.py:119] From /home/seung/.venv/py3Keras/lib/python3.5/site-packages/keras/backend/tensorflow_backend.py:517: The name tf.placeholder is deprecated. Please use tf.compat.v1.placeholder instead.\n",
      "\n",
      "W0821 22:57:35.550779 140148418574080 deprecation_wrapper.py:119] From /home/seung/.venv/py3Keras/lib/python3.5/site-packages/keras/backend/tensorflow_backend.py:4138: The name tf.random_uniform is deprecated. Please use tf.random.uniform instead.\n",
      "\n"
     ]
    }
   ],
   "source": [
    "# this is our input placeholder\n",
    "input_img = Input(shape=(784,))\n",
    "#encoded = Dense(encoding_dim, activation='relu')(input_img)\n",
    "encoded = Dense(128, activation='relu')(input_img)\n",
    "encoded = Dense(64, activation='relu')(encoded)\n",
    "encoded = Dense(32, activation='relu')(encoded)"
   ]
  },
  {
   "cell_type": "code",
   "execution_count": 5,
   "metadata": {},
   "outputs": [],
   "source": [
    "decoded = Dense(64, activation='relu')(encoded)\n",
    "decoded = Dense(128, activation='relu')(decoded)\n",
    "decoded = Dense(784, activation='sigmoid')(decoded)"
   ]
  },
  {
   "cell_type": "code",
   "execution_count": 6,
   "metadata": {},
   "outputs": [
    {
     "name": "stdout",
     "output_type": "stream",
     "text": [
      "_________________________________________________________________\n",
      "Layer (type)                 Output Shape              Param #   \n",
      "=================================================================\n",
      "input_1 (InputLayer)         (None, 784)               0         \n",
      "_________________________________________________________________\n",
      "dense_1 (Dense)              (None, 128)               100480    \n",
      "_________________________________________________________________\n",
      "dense_2 (Dense)              (None, 64)                8256      \n",
      "_________________________________________________________________\n",
      "dense_3 (Dense)              (None, 32)                2080      \n",
      "_________________________________________________________________\n",
      "dense_4 (Dense)              (None, 64)                2112      \n",
      "_________________________________________________________________\n",
      "dense_5 (Dense)              (None, 128)               8320      \n",
      "_________________________________________________________________\n",
      "dense_6 (Dense)              (None, 784)               101136    \n",
      "=================================================================\n",
      "Total params: 222,384\n",
      "Trainable params: 222,384\n",
      "Non-trainable params: 0\n",
      "_________________________________________________________________\n"
     ]
    }
   ],
   "source": [
    "# this model maps an input to its reconstruction\n",
    "autoencoder = Model(input_img, decoded)\n",
    "autoencoder.summary()"
   ]
  },
  {
   "cell_type": "code",
   "execution_count": 7,
   "metadata": {},
   "outputs": [
    {
     "name": "stdout",
     "output_type": "stream",
     "text": [
      "_________________________________________________________________\n",
      "Layer (type)                 Output Shape              Param #   \n",
      "=================================================================\n",
      "input_1 (InputLayer)         (None, 784)               0         \n",
      "_________________________________________________________________\n",
      "dense_1 (Dense)              (None, 128)               100480    \n",
      "_________________________________________________________________\n",
      "dense_2 (Dense)              (None, 64)                8256      \n",
      "_________________________________________________________________\n",
      "dense_3 (Dense)              (None, 32)                2080      \n",
      "=================================================================\n",
      "Total params: 110,816\n",
      "Trainable params: 110,816\n",
      "Non-trainable params: 0\n",
      "_________________________________________________________________\n"
     ]
    }
   ],
   "source": [
    "# this model maps an input to its encoded representation\n",
    "encoder = Model(input_img, encoded)\n",
    "encoder.summary()"
   ]
  },
  {
   "cell_type": "code",
   "execution_count": 9,
   "metadata": {},
   "outputs": [
    {
     "name": "stderr",
     "output_type": "stream",
     "text": [
      "W0821 22:57:35.667855 140148418574080 deprecation_wrapper.py:119] From /home/seung/.venv/py3Keras/lib/python3.5/site-packages/keras/optimizers.py:790: The name tf.train.Optimizer is deprecated. Please use tf.compat.v1.train.Optimizer instead.\n",
      "\n",
      "W0821 22:57:35.679906 140148418574080 deprecation_wrapper.py:119] From /home/seung/.venv/py3Keras/lib/python3.5/site-packages/keras/backend/tensorflow_backend.py:3376: The name tf.log is deprecated. Please use tf.math.log instead.\n",
      "\n",
      "W0821 22:57:35.683632 140148418574080 deprecation.py:323] From /home/seung/.venv/py3Keras/lib/python3.5/site-packages/tensorflow/python/ops/nn_impl.py:180: add_dispatch_support.<locals>.wrapper (from tensorflow.python.ops.array_ops) is deprecated and will be removed in a future version.\n",
      "Instructions for updating:\n",
      "Use tf.where in 2.0, which has the same broadcast rule as np.where\n"
     ]
    }
   ],
   "source": [
    "autoencoder.compile(optimizer='adadelta', loss='binary_crossentropy')"
   ]
  },
  {
   "cell_type": "code",
   "execution_count": 10,
   "metadata": {},
   "outputs": [],
   "source": [
    "from keras.datasets import mnist\n",
    "import numpy as np\n",
    "(x_train, _), (x_test, _) = mnist.load_data()"
   ]
  },
  {
   "cell_type": "code",
   "execution_count": 11,
   "metadata": {},
   "outputs": [
    {
     "name": "stdout",
     "output_type": "stream",
     "text": [
      "(60000, 784)\n",
      "(10000, 784)\n"
     ]
    }
   ],
   "source": [
    "x_train = x_train.astype('float32') / 255.\n",
    "x_test = x_test.astype('float32') / 255.\n",
    "x_train = x_train.reshape((len(x_train), np.prod(x_train.shape[1:])))\n",
    "x_test = x_test.reshape((len(x_test), np.prod(x_test.shape[1:])))\n",
    "print(x_train.shape)\n",
    "print(x_test.shape)"
   ]
  },
  {
   "cell_type": "code",
   "execution_count": 12,
   "metadata": {},
   "outputs": [
    {
     "name": "stderr",
     "output_type": "stream",
     "text": [
      "W0821 22:57:36.236785 140148418574080 deprecation_wrapper.py:119] From /home/seung/.venv/py3Keras/lib/python3.5/site-packages/keras/backend/tensorflow_backend.py:986: The name tf.assign_add is deprecated. Please use tf.compat.v1.assign_add instead.\n",
      "\n"
     ]
    },
    {
     "name": "stdout",
     "output_type": "stream",
     "text": [
      "Train on 60000 samples, validate on 10000 samples\n",
      "Epoch 1/100\n",
      "60000/60000 [==============================] - 3s 48us/step - loss: 0.3436 - val_loss: 0.2646\n",
      "Epoch 2/100\n",
      "60000/60000 [==============================] - 2s 33us/step - loss: 0.2565 - val_loss: 0.2475\n",
      "Epoch 3/100\n",
      "60000/60000 [==============================] - 2s 33us/step - loss: 0.2346 - val_loss: 0.2237\n",
      "Epoch 4/100\n",
      "60000/60000 [==============================] - 2s 33us/step - loss: 0.2153 - val_loss: 0.2054\n",
      "Epoch 5/100\n",
      "60000/60000 [==============================] - 2s 32us/step - loss: 0.1988 - val_loss: 0.1934\n",
      "Epoch 6/100\n",
      "60000/60000 [==============================] - 2s 33us/step - loss: 0.1877 - val_loss: 0.1821\n",
      "Epoch 7/100\n",
      "60000/60000 [==============================] - 2s 33us/step - loss: 0.1795 - val_loss: 0.1745\n",
      "Epoch 8/100\n",
      "60000/60000 [==============================] - 2s 33us/step - loss: 0.1729 - val_loss: 0.1708\n",
      "Epoch 9/100\n",
      "60000/60000 [==============================] - 2s 33us/step - loss: 0.1682 - val_loss: 0.1637\n",
      "Epoch 10/100\n",
      "60000/60000 [==============================] - 2s 33us/step - loss: 0.1643 - val_loss: 0.1630\n",
      "Epoch 11/100\n",
      "60000/60000 [==============================] - 2s 33us/step - loss: 0.1602 - val_loss: 0.1563\n",
      "Epoch 12/100\n",
      "60000/60000 [==============================] - 2s 33us/step - loss: 0.1560 - val_loss: 0.1530\n",
      "Epoch 13/100\n",
      "60000/60000 [==============================] - 2s 33us/step - loss: 0.1522 - val_loss: 0.1506\n",
      "Epoch 14/100\n",
      "60000/60000 [==============================] - 2s 33us/step - loss: 0.1487 - val_loss: 0.1454\n",
      "Epoch 15/100\n",
      "60000/60000 [==============================] - 2s 33us/step - loss: 0.1458 - val_loss: 0.1434\n",
      "Epoch 16/100\n",
      "60000/60000 [==============================] - 2s 33us/step - loss: 0.1433 - val_loss: 0.1406\n",
      "Epoch 17/100\n",
      "60000/60000 [==============================] - 2s 33us/step - loss: 0.1410 - val_loss: 0.1407\n",
      "Epoch 18/100\n",
      "60000/60000 [==============================] - 2s 33us/step - loss: 0.1386 - val_loss: 0.1352\n",
      "Epoch 19/100\n",
      "60000/60000 [==============================] - 2s 33us/step - loss: 0.1366 - val_loss: 0.1352\n",
      "Epoch 20/100\n",
      "60000/60000 [==============================] - 2s 33us/step - loss: 0.1348 - val_loss: 0.1326\n",
      "Epoch 21/100\n",
      "60000/60000 [==============================] - 2s 33us/step - loss: 0.1332 - val_loss: 0.1316\n",
      "Epoch 22/100\n",
      "60000/60000 [==============================] - 2s 33us/step - loss: 0.1316 - val_loss: 0.1285\n",
      "Epoch 23/100\n",
      "60000/60000 [==============================] - 2s 33us/step - loss: 0.1303 - val_loss: 0.1305\n",
      "Epoch 24/100\n",
      "60000/60000 [==============================] - 2s 33us/step - loss: 0.1290 - val_loss: 0.1275\n",
      "Epoch 25/100\n",
      "60000/60000 [==============================] - 2s 33us/step - loss: 0.1279 - val_loss: 0.1252\n",
      "Epoch 26/100\n",
      "60000/60000 [==============================] - 2s 33us/step - loss: 0.1269 - val_loss: 0.1238\n",
      "Epoch 27/100\n",
      "60000/60000 [==============================] - 2s 33us/step - loss: 0.1259 - val_loss: 0.1238\n",
      "Epoch 28/100\n",
      "60000/60000 [==============================] - 2s 33us/step - loss: 0.1250 - val_loss: 0.1234\n",
      "Epoch 29/100\n",
      "60000/60000 [==============================] - 2s 33us/step - loss: 0.1242 - val_loss: 0.1220\n",
      "Epoch 30/100\n",
      "60000/60000 [==============================] - 2s 33us/step - loss: 0.1234 - val_loss: 0.1211\n",
      "Epoch 31/100\n",
      "60000/60000 [==============================] - 2s 33us/step - loss: 0.1224 - val_loss: 0.1222\n",
      "Epoch 32/100\n",
      "60000/60000 [==============================] - 2s 33us/step - loss: 0.1216 - val_loss: 0.1196\n",
      "Epoch 33/100\n",
      "60000/60000 [==============================] - 2s 33us/step - loss: 0.1206 - val_loss: 0.1198\n",
      "Epoch 34/100\n",
      "60000/60000 [==============================] - 2s 33us/step - loss: 0.1200 - val_loss: 0.1181\n",
      "Epoch 35/100\n",
      "60000/60000 [==============================] - 2s 33us/step - loss: 0.1192 - val_loss: 0.1172\n",
      "Epoch 36/100\n",
      "60000/60000 [==============================] - 2s 33us/step - loss: 0.1184 - val_loss: 0.1172\n",
      "Epoch 37/100\n",
      "60000/60000 [==============================] - 2s 33us/step - loss: 0.1178 - val_loss: 0.1164\n",
      "Epoch 38/100\n",
      "60000/60000 [==============================] - 2s 33us/step - loss: 0.1172 - val_loss: 0.1171\n",
      "Epoch 39/100\n",
      "60000/60000 [==============================] - 2s 33us/step - loss: 0.1165 - val_loss: 0.1168\n",
      "Epoch 40/100\n",
      "60000/60000 [==============================] - 2s 33us/step - loss: 0.1160 - val_loss: 0.1168\n",
      "Epoch 41/100\n",
      "60000/60000 [==============================] - 2s 33us/step - loss: 0.1154 - val_loss: 0.1148\n",
      "Epoch 42/100\n",
      "60000/60000 [==============================] - 2s 33us/step - loss: 0.1148 - val_loss: 0.1122\n",
      "Epoch 43/100\n",
      "60000/60000 [==============================] - 2s 33us/step - loss: 0.1144 - val_loss: 0.1130\n",
      "Epoch 44/100\n",
      "60000/60000 [==============================] - 2s 33us/step - loss: 0.1138 - val_loss: 0.1134\n",
      "Epoch 45/100\n",
      "60000/60000 [==============================] - 2s 33us/step - loss: 0.1133 - val_loss: 0.1154\n",
      "Epoch 46/100\n",
      "60000/60000 [==============================] - 2s 33us/step - loss: 0.1128 - val_loss: 0.1125\n",
      "Epoch 47/100\n",
      "60000/60000 [==============================] - 2s 33us/step - loss: 0.1123 - val_loss: 0.1122\n",
      "Epoch 48/100\n",
      "60000/60000 [==============================] - 2s 33us/step - loss: 0.1119 - val_loss: 0.1101\n",
      "Epoch 49/100\n",
      "60000/60000 [==============================] - 2s 33us/step - loss: 0.1115 - val_loss: 0.1122\n",
      "Epoch 50/100\n",
      "60000/60000 [==============================] - 2s 33us/step - loss: 0.1111 - val_loss: 0.1096\n",
      "Epoch 51/100\n",
      "60000/60000 [==============================] - 2s 33us/step - loss: 0.1106 - val_loss: 0.1101\n",
      "Epoch 52/100\n",
      "60000/60000 [==============================] - 2s 33us/step - loss: 0.1105 - val_loss: 0.1088\n",
      "Epoch 53/100\n",
      "60000/60000 [==============================] - 2s 33us/step - loss: 0.1099 - val_loss: 0.1100\n",
      "Epoch 54/100\n",
      "60000/60000 [==============================] - 2s 33us/step - loss: 0.1096 - val_loss: 0.1082\n",
      "Epoch 55/100\n",
      "60000/60000 [==============================] - 2s 33us/step - loss: 0.1092 - val_loss: 0.1078\n",
      "Epoch 56/100\n",
      "60000/60000 [==============================] - 2s 33us/step - loss: 0.1087 - val_loss: 0.1080\n",
      "Epoch 57/100\n",
      "60000/60000 [==============================] - 2s 33us/step - loss: 0.1086 - val_loss: 0.1075\n",
      "Epoch 58/100\n",
      "60000/60000 [==============================] - 2s 33us/step - loss: 0.1081 - val_loss: 0.1075\n",
      "Epoch 59/100\n",
      "60000/60000 [==============================] - 2s 33us/step - loss: 0.1079 - val_loss: 0.1070\n",
      "Epoch 60/100\n",
      "60000/60000 [==============================] - 2s 33us/step - loss: 0.1075 - val_loss: 0.1056\n",
      "Epoch 61/100\n",
      "60000/60000 [==============================] - 2s 33us/step - loss: 0.1070 - val_loss: 0.1065\n",
      "Epoch 62/100\n",
      "60000/60000 [==============================] - 2s 33us/step - loss: 0.1068 - val_loss: 0.1068\n",
      "Epoch 63/100\n",
      "60000/60000 [==============================] - 2s 33us/step - loss: 0.1065 - val_loss: 0.1069\n",
      "Epoch 64/100\n",
      "60000/60000 [==============================] - 2s 33us/step - loss: 0.1062 - val_loss: 0.1049\n",
      "Epoch 65/100\n",
      "60000/60000 [==============================] - 2s 33us/step - loss: 0.1058 - val_loss: 0.1067\n",
      "Epoch 66/100\n",
      "60000/60000 [==============================] - 2s 33us/step - loss: 0.1058 - val_loss: 0.1049\n",
      "Epoch 67/100\n",
      "60000/60000 [==============================] - 2s 33us/step - loss: 0.1053 - val_loss: 0.1029\n",
      "Epoch 68/100\n",
      "60000/60000 [==============================] - 2s 33us/step - loss: 0.1051 - val_loss: 0.1076\n",
      "Epoch 69/100\n",
      "60000/60000 [==============================] - 2s 33us/step - loss: 0.1048 - val_loss: 0.1027\n",
      "Epoch 70/100\n",
      "60000/60000 [==============================] - 2s 33us/step - loss: 0.1046 - val_loss: 0.1047\n",
      "Epoch 71/100\n",
      "60000/60000 [==============================] - 2s 33us/step - loss: 0.1043 - val_loss: 0.1036\n",
      "Epoch 72/100\n",
      "60000/60000 [==============================] - 2s 33us/step - loss: 0.1040 - val_loss: 0.1039\n",
      "Epoch 73/100\n",
      "60000/60000 [==============================] - 2s 33us/step - loss: 0.1039 - val_loss: 0.1033\n",
      "Epoch 74/100\n",
      "60000/60000 [==============================] - 2s 33us/step - loss: 0.1036 - val_loss: 0.1031\n",
      "Epoch 75/100\n",
      "60000/60000 [==============================] - 2s 33us/step - loss: 0.1034 - val_loss: 0.1024\n",
      "Epoch 76/100\n",
      "60000/60000 [==============================] - 2s 33us/step - loss: 0.1031 - val_loss: 0.1022\n",
      "Epoch 77/100\n",
      "60000/60000 [==============================] - 2s 33us/step - loss: 0.1030 - val_loss: 0.1004\n",
      "Epoch 78/100\n",
      "60000/60000 [==============================] - 2s 33us/step - loss: 0.1028 - val_loss: 0.1023\n",
      "Epoch 79/100\n",
      "60000/60000 [==============================] - 2s 33us/step - loss: 0.1024 - val_loss: 0.1015\n",
      "Epoch 80/100\n",
      "60000/60000 [==============================] - 2s 33us/step - loss: 0.1025 - val_loss: 0.1025\n",
      "Epoch 81/100\n",
      "60000/60000 [==============================] - 2s 33us/step - loss: 0.1021 - val_loss: 0.0998\n",
      "Epoch 82/100\n",
      "60000/60000 [==============================] - 2s 33us/step - loss: 0.1020 - val_loss: 0.1005\n",
      "Epoch 83/100\n",
      "60000/60000 [==============================] - 2s 33us/step - loss: 0.1017 - val_loss: 0.1017\n",
      "Epoch 84/100\n",
      "60000/60000 [==============================] - 2s 33us/step - loss: 0.1015 - val_loss: 0.1015\n",
      "Epoch 85/100\n",
      "60000/60000 [==============================] - 2s 33us/step - loss: 0.1014 - val_loss: 0.0997\n",
      "Epoch 86/100\n",
      "60000/60000 [==============================] - 2s 33us/step - loss: 0.1012 - val_loss: 0.1004\n",
      "Epoch 87/100\n",
      "60000/60000 [==============================] - 2s 33us/step - loss: 0.1010 - val_loss: 0.1006\n",
      "Epoch 88/100\n",
      "60000/60000 [==============================] - 2s 33us/step - loss: 0.1009 - val_loss: 0.0990\n",
      "Epoch 89/100\n",
      "60000/60000 [==============================] - 2s 33us/step - loss: 0.1008 - val_loss: 0.0985\n",
      "Epoch 90/100\n",
      "60000/60000 [==============================] - 2s 33us/step - loss: 0.1005 - val_loss: 0.0998\n",
      "Epoch 91/100\n",
      "60000/60000 [==============================] - 2s 33us/step - loss: 0.1003 - val_loss: 0.0976\n",
      "Epoch 92/100\n",
      "60000/60000 [==============================] - 2s 33us/step - loss: 0.1001 - val_loss: 0.0979\n",
      "Epoch 93/100\n",
      "60000/60000 [==============================] - 2s 33us/step - loss: 0.0999 - val_loss: 0.0990\n",
      "Epoch 94/100\n",
      "60000/60000 [==============================] - 2s 33us/step - loss: 0.0999 - val_loss: 0.0983\n",
      "Epoch 95/100\n",
      "60000/60000 [==============================] - 2s 33us/step - loss: 0.0996 - val_loss: 0.1021\n",
      "Epoch 96/100\n",
      "60000/60000 [==============================] - 2s 33us/step - loss: 0.0995 - val_loss: 0.0995\n",
      "Epoch 97/100\n",
      "60000/60000 [==============================] - 2s 33us/step - loss: 0.0994 - val_loss: 0.0979\n",
      "Epoch 98/100\n",
      "60000/60000 [==============================] - 2s 33us/step - loss: 0.0992 - val_loss: 0.0995\n",
      "Epoch 99/100\n",
      "60000/60000 [==============================] - 2s 33us/step - loss: 0.0991 - val_loss: 0.0986\n",
      "Epoch 100/100\n",
      "60000/60000 [==============================] - 2s 33us/step - loss: 0.0988 - val_loss: 0.0964\n"
     ]
    },
    {
     "data": {
      "text/plain": [
       "<keras.callbacks.History at 0x7f763bd02438>"
      ]
     },
     "execution_count": 12,
     "metadata": {},
     "output_type": "execute_result"
    }
   ],
   "source": [
    "autoencoder.fit(x_train, x_train,\n",
    "                epochs=nb_epoch,\n",
    "                batch_size=256,\n",
    "                shuffle=True,\n",
    "                validation_data=(x_test, x_test))"
   ]
  },
  {
   "cell_type": "code",
   "execution_count": 20,
   "metadata": {},
   "outputs": [],
   "source": [
    "# encode and decode some digits\n",
    "# note that we take them from the *test* set\n",
    "encoded_imgs = encoder.predict(x_test)\n",
    "#decoded_imgs = decoder.predict(encoded_imgs)\n",
    "decoded_imgs = autoencoder.predict(x_test)"
   ]
  },
  {
   "cell_type": "code",
   "execution_count": 30,
   "metadata": {},
   "outputs": [
    {
     "name": "stdout",
     "output_type": "stream",
     "text": [
      "0.13251467\n",
      "0.13526022\n"
     ]
    }
   ],
   "source": [
    "print(x_test.mean())\n",
    "print(decoded_imgs.mean())"
   ]
  },
  {
   "cell_type": "code",
   "execution_count": 31,
   "metadata": {},
   "outputs": [
    {
     "name": "stdout",
     "output_type": "stream",
     "text": [
      "5.11614\n",
      "3.682132\n"
     ]
    }
   ],
   "source": [
    "print(encoded_imgs.mean())\n",
    "print(encoded_imgs.std())"
   ]
  },
  {
   "cell_type": "code",
   "execution_count": 22,
   "metadata": {},
   "outputs": [
    {
     "name": "stdout",
     "output_type": "stream",
     "text": [
      "(10000, 32)\n",
      "(10000, 784)\n"
     ]
    }
   ],
   "source": [
    "print(encoded_imgs.shape)\n",
    "print(decoded_imgs.shape)"
   ]
  },
  {
   "cell_type": "code",
   "execution_count": 28,
   "metadata": {},
   "outputs": [
    {
     "data": {
      "image/png": "[encoded data removed]",
      "text/plain": [
       "<Figure size 720x288 with 30 Axes>"
      ]
     },
     "metadata": {},
     "output_type": "display_data"
    }
   ],
   "source": [
    "import matplotlib.pyplot as plt\n",
    "\n",
    "n = 10  # how many digits we will display\n",
    "plt.figure(figsize=(10, 4))\n",
    "for i in range(n):\n",
    "    # display original\n",
    "    ax = plt.subplot(3, n, i + 1)\n",
    "    if i==n//2:\n",
    "        plt.title('Deeper')\n",
    "    plt.imshow(x_test[i].reshape(28, 28))\n",
    "    plt.gray()\n",
    "    ax.get_xaxis().set_visible(False)\n",
    "    ax.get_yaxis().set_visible(False)\n",
    "\n",
    "    # display encoded images\n",
    "    ax = plt.subplot(3, n, i + 1 + 1*n)\n",
    "    plt.imshow(encoded_imgs[i].reshape(8,4))\n",
    "    plt.gray()\n",
    "    ax.get_xaxis().set_visible(False)\n",
    "    ax.get_yaxis().set_visible(False)\n",
    "    \n",
    "    # display reconstruction\n",
    "    ax = plt.subplot(3, n, i + 1 + 2*n)\n",
    "    plt.imshow(decoded_imgs[i].reshape(28, 28))\n",
    "    plt.gray()\n",
    "    ax.get_xaxis().set_visible(False)\n",
    "    ax.get_yaxis().set_visible(False)\n",
    "plt.show()"
   ]
  },
  {
   "cell_type": "markdown",
   "metadata": {},
   "source": [
    "References\n",
    "* https://blog.keras.io/building-autoencoders-in-keras.html\n",
    "* https://medium.com/datadriveninvestor/deep-autoencoder-using-keras-b77cd3e8be95"
   ]
  }
 ],
 "metadata": {
  "kernelspec": {
   "display_name": "Py35_keras",
   "language": "python",
   "name": "py35_keras"
  },
  "language_info": {
   "codemirror_mode": {
    "name": "ipython",
    "version": 3
   },
   "file_extension": ".py",
   "mimetype": "text/x-python",
   "name": "python",
   "nbconvert_exporter": "python",
   "pygments_lexer": "ipython3",
   "version": "3.5.2"
  }
 },
 "nbformat": 4,
 "nbformat_minor": 2
}
