{
 "cells": [
  {
   "cell_type": "code",
   "execution_count": 1,
   "metadata": {},
   "outputs": [],
   "source": [
    "import warnings\n",
    "warnings.filterwarnings(\"ignore\")"
   ]
  },
  {
   "cell_type": "code",
   "execution_count": 2,
   "metadata": {},
   "outputs": [
    {
     "name": "stderr",
     "output_type": "stream",
     "text": [
      "Using TensorFlow backend.\n"
     ]
    }
   ],
   "source": [
    "from keras.layers import Input, Dense\n",
    "from keras.models import Model"
   ]
  },
  {
   "cell_type": "code",
   "execution_count": 3,
   "metadata": {},
   "outputs": [
    {
     "name": "stdout",
     "output_type": "stream",
     "text": [
      "24.5\n"
     ]
    }
   ],
   "source": [
    "# this is the size of our encoded representations\n",
    "encoding_dim = 32  # 32 floats -> compression of factor 24.5, assuming the input is 784 floats\n",
    "print(784/encoding_dim)"
   ]
  },
  {
   "cell_type": "code",
   "execution_count": 4,
   "metadata": {},
   "outputs": [],
   "source": [
    "#use_sparsity_constraint = True\n",
    "nb_epoch = 100"
   ]
  },
  {
   "cell_type": "code",
   "execution_count": 5,
   "metadata": {},
   "outputs": [
    {
     "name": "stderr",
     "output_type": "stream",
     "text": [
      "WARNING: Logging before flag parsing goes to stderr.\n",
      "W0821 23:09:57.343245 140118151415552 deprecation_wrapper.py:119] From /home/seung/.venv/py3Keras/lib/python3.5/site-packages/keras/backend/tensorflow_backend.py:74: The name tf.get_default_graph is deprecated. Please use tf.compat.v1.get_default_graph instead.\n",
      "\n",
      "W0821 23:09:57.360560 140118151415552 deprecation_wrapper.py:119] From /home/seung/.venv/py3Keras/lib/python3.5/site-packages/keras/backend/tensorflow_backend.py:517: The name tf.placeholder is deprecated. Please use tf.compat.v1.placeholder instead.\n",
      "\n",
      "W0821 23:09:57.363055 140118151415552 deprecation_wrapper.py:119] From /home/seung/.venv/py3Keras/lib/python3.5/site-packages/keras/backend/tensorflow_backend.py:4138: The name tf.random_uniform is deprecated. Please use tf.random.uniform instead.\n",
      "\n"
     ]
    }
   ],
   "source": [
    "# this is our input placeholder\n",
    "input_img = Input(shape=(784,))\n",
    "encoded = Dense(encoding_dim, activation='relu')(input_img)\n"
   ]
  },
  {
   "cell_type": "code",
   "execution_count": 6,
   "metadata": {},
   "outputs": [],
   "source": [
    "# \"decoded\" is the lossy reconstruction of the input\n",
    "decoded = Dense(784, activation='sigmoid')(encoded)"
   ]
  },
  {
   "cell_type": "code",
   "execution_count": 7,
   "metadata": {},
   "outputs": [
    {
     "name": "stdout",
     "output_type": "stream",
     "text": [
      "_________________________________________________________________\n",
      "Layer (type)                 Output Shape              Param #   \n",
      "=================================================================\n",
      "input_1 (InputLayer)         (None, 784)               0         \n",
      "_________________________________________________________________\n",
      "dense_1 (Dense)              (None, 32)                25120     \n",
      "_________________________________________________________________\n",
      "dense_2 (Dense)              (None, 784)               25872     \n",
      "=================================================================\n",
      "Total params: 50,992\n",
      "Trainable params: 50,992\n",
      "Non-trainable params: 0\n",
      "_________________________________________________________________\n"
     ]
    }
   ],
   "source": [
    "# this model maps an input to its reconstruction\n",
    "autoencoder = Model(input_img, decoded)\n",
    "autoencoder.summary()"
   ]
  },
  {
   "cell_type": "code",
   "execution_count": 8,
   "metadata": {},
   "outputs": [
    {
     "name": "stdout",
     "output_type": "stream",
     "text": [
      "_________________________________________________________________\n",
      "Layer (type)                 Output Shape              Param #   \n",
      "=================================================================\n",
      "input_1 (InputLayer)         (None, 784)               0         \n",
      "_________________________________________________________________\n",
      "dense_1 (Dense)              (None, 32)                25120     \n",
      "=================================================================\n",
      "Total params: 25,120\n",
      "Trainable params: 25,120\n",
      "Non-trainable params: 0\n",
      "_________________________________________________________________\n"
     ]
    }
   ],
   "source": [
    "# this model maps an input to its encoded representation\n",
    "encoder = Model(input_img, encoded)\n",
    "encoder.summary()"
   ]
  },
  {
   "cell_type": "code",
   "execution_count": 9,
   "metadata": {},
   "outputs": [],
   "source": [
    "# create a placeholder for an encoded (32-dimensional) input\n",
    "encoded_input = Input(shape=(encoding_dim,))\n",
    "# retrieve the last layer of the autoencoder model\n",
    "decoder_layer = autoencoder.layers[-1]"
   ]
  },
  {
   "cell_type": "code",
   "execution_count": 10,
   "metadata": {},
   "outputs": [
    {
     "name": "stdout",
     "output_type": "stream",
     "text": [
      "_________________________________________________________________\n",
      "Layer (type)                 Output Shape              Param #   \n",
      "=================================================================\n",
      "input_2 (InputLayer)         (None, 32)                0         \n",
      "_________________________________________________________________\n",
      "dense_2 (Dense)              (None, 784)               25872     \n",
      "=================================================================\n",
      "Total params: 25,872\n",
      "Trainable params: 25,872\n",
      "Non-trainable params: 0\n",
      "_________________________________________________________________\n"
     ]
    }
   ],
   "source": [
    "# create the decoder model\n",
    "decoder = Model(encoded_input, decoder_layer(encoded_input))\n",
    "decoder.summary()"
   ]
  },
  {
   "cell_type": "code",
   "execution_count": 11,
   "metadata": {},
   "outputs": [
    {
     "name": "stderr",
     "output_type": "stream",
     "text": [
      "W0821 23:09:57.443207 140118151415552 deprecation_wrapper.py:119] From /home/seung/.venv/py3Keras/lib/python3.5/site-packages/keras/optimizers.py:790: The name tf.train.Optimizer is deprecated. Please use tf.compat.v1.train.Optimizer instead.\n",
      "\n",
      "W0821 23:09:57.460156 140118151415552 deprecation_wrapper.py:119] From /home/seung/.venv/py3Keras/lib/python3.5/site-packages/keras/backend/tensorflow_backend.py:3376: The name tf.log is deprecated. Please use tf.math.log instead.\n",
      "\n",
      "W0821 23:09:57.463715 140118151415552 deprecation.py:323] From /home/seung/.venv/py3Keras/lib/python3.5/site-packages/tensorflow/python/ops/nn_impl.py:180: add_dispatch_support.<locals>.wrapper (from tensorflow.python.ops.array_ops) is deprecated and will be removed in a future version.\n",
      "Instructions for updating:\n",
      "Use tf.where in 2.0, which has the same broadcast rule as np.where\n"
     ]
    }
   ],
   "source": [
    "autoencoder.compile(optimizer='adadelta', loss='binary_crossentropy')"
   ]
  },
  {
   "cell_type": "code",
   "execution_count": 12,
   "metadata": {},
   "outputs": [],
   "source": [
    "from keras.datasets import mnist\n",
    "import numpy as np\n",
    "(x_train, _), (x_test, _) = mnist.load_data()"
   ]
  },
  {
   "cell_type": "code",
   "execution_count": 13,
   "metadata": {},
   "outputs": [
    {
     "name": "stdout",
     "output_type": "stream",
     "text": [
      "(60000, 784)\n",
      "(10000, 784)\n"
     ]
    }
   ],
   "source": [
    "x_train = x_train.astype('float32') / 255.\n",
    "x_test = x_test.astype('float32') / 255.\n",
    "x_train = x_train.reshape((len(x_train), np.prod(x_train.shape[1:])))\n",
    "x_test = x_test.reshape((len(x_test), np.prod(x_test.shape[1:])))\n",
    "print(x_train.shape)\n",
    "print(x_test.shape)"
   ]
  },
  {
   "cell_type": "code",
   "execution_count": 14,
   "metadata": {},
   "outputs": [
    {
     "name": "stderr",
     "output_type": "stream",
     "text": [
      "W0821 23:09:57.950718 140118151415552 deprecation_wrapper.py:119] From /home/seung/.venv/py3Keras/lib/python3.5/site-packages/keras/backend/tensorflow_backend.py:986: The name tf.assign_add is deprecated. Please use tf.compat.v1.assign_add instead.\n",
      "\n"
     ]
    },
    {
     "name": "stdout",
     "output_type": "stream",
     "text": [
      "Train on 60000 samples, validate on 10000 samples\n",
      "Epoch 1/100\n",
      "60000/60000 [==============================] - 2s 38us/step - loss: 0.3696 - val_loss: 0.2714\n",
      "Epoch 2/100\n",
      "60000/60000 [==============================] - 1s 24us/step - loss: 0.2640 - val_loss: 0.2531\n",
      "Epoch 3/100\n",
      "60000/60000 [==============================] - 1s 24us/step - loss: 0.2436 - val_loss: 0.2322\n",
      "Epoch 4/100\n",
      "60000/60000 [==============================] - 1s 24us/step - loss: 0.2249 - val_loss: 0.2145\n",
      "Epoch 5/100\n",
      "60000/60000 [==============================] - 1s 24us/step - loss: 0.2092 - val_loss: 0.2009\n",
      "Epoch 6/100\n",
      "60000/60000 [==============================] - 1s 24us/step - loss: 0.1972 - val_loss: 0.1905\n",
      "Epoch 7/100\n",
      "60000/60000 [==============================] - 1s 24us/step - loss: 0.1879 - val_loss: 0.1823\n",
      "Epoch 8/100\n",
      "60000/60000 [==============================] - 1s 24us/step - loss: 0.1806 - val_loss: 0.1757\n",
      "Epoch 9/100\n",
      "60000/60000 [==============================] - 1s 24us/step - loss: 0.1744 - val_loss: 0.1701\n",
      "Epoch 10/100\n",
      "60000/60000 [==============================] - 1s 24us/step - loss: 0.1691 - val_loss: 0.1652\n",
      "Epoch 11/100\n",
      "60000/60000 [==============================] - 1s 24us/step - loss: 0.1644 - val_loss: 0.1606\n",
      "Epoch 12/100\n",
      "60000/60000 [==============================] - 1s 24us/step - loss: 0.1601 - val_loss: 0.1565\n",
      "Epoch 13/100\n",
      "60000/60000 [==============================] - 1s 24us/step - loss: 0.1562 - val_loss: 0.1528\n",
      "Epoch 14/100\n",
      "60000/60000 [==============================] - 1s 24us/step - loss: 0.1526 - val_loss: 0.1493\n",
      "Epoch 15/100\n",
      "60000/60000 [==============================] - 1s 24us/step - loss: 0.1493 - val_loss: 0.1462\n",
      "Epoch 16/100\n",
      "60000/60000 [==============================] - 1s 25us/step - loss: 0.1463 - val_loss: 0.1433\n",
      "Epoch 17/100\n",
      "60000/60000 [==============================] - 1s 25us/step - loss: 0.1435 - val_loss: 0.1407\n",
      "Epoch 18/100\n",
      "60000/60000 [==============================] - 1s 25us/step - loss: 0.1409 - val_loss: 0.1381\n",
      "Epoch 19/100\n",
      "60000/60000 [==============================] - 1s 25us/step - loss: 0.1385 - val_loss: 0.1359\n",
      "Epoch 20/100\n",
      "60000/60000 [==============================] - 2s 25us/step - loss: 0.1363 - val_loss: 0.1338\n",
      "Epoch 21/100\n",
      "60000/60000 [==============================] - 1s 25us/step - loss: 0.1341 - val_loss: 0.1315\n",
      "Epoch 22/100\n",
      "60000/60000 [==============================] - 1s 25us/step - loss: 0.1321 - val_loss: 0.1295\n",
      "Epoch 23/100\n",
      "60000/60000 [==============================] - 2s 25us/step - loss: 0.1301 - val_loss: 0.1277\n",
      "Epoch 24/100\n",
      "60000/60000 [==============================] - 2s 25us/step - loss: 0.1281 - val_loss: 0.1256\n",
      "Epoch 25/100\n",
      "60000/60000 [==============================] - 1s 25us/step - loss: 0.1263 - val_loss: 0.1237\n",
      "Epoch 26/100\n",
      "60000/60000 [==============================] - 2s 25us/step - loss: 0.1245 - val_loss: 0.1220\n",
      "Epoch 27/100\n",
      "60000/60000 [==============================] - 1s 25us/step - loss: 0.1227 - val_loss: 0.1203\n",
      "Epoch 28/100\n",
      "60000/60000 [==============================] - 2s 25us/step - loss: 0.1211 - val_loss: 0.1187\n",
      "Epoch 29/100\n",
      "60000/60000 [==============================] - 1s 25us/step - loss: 0.1195 - val_loss: 0.1171\n",
      "Epoch 30/100\n",
      "60000/60000 [==============================] - 2s 25us/step - loss: 0.1180 - val_loss: 0.1157\n",
      "Epoch 31/100\n",
      "60000/60000 [==============================] - 2s 25us/step - loss: 0.1166 - val_loss: 0.1143\n",
      "Epoch 32/100\n",
      "60000/60000 [==============================] - 2s 25us/step - loss: 0.1153 - val_loss: 0.1131\n",
      "Epoch 33/100\n",
      "60000/60000 [==============================] - 1s 25us/step - loss: 0.1140 - val_loss: 0.1118\n",
      "Epoch 34/100\n",
      "60000/60000 [==============================] - 2s 26us/step - loss: 0.1129 - val_loss: 0.1107\n",
      "Epoch 35/100\n",
      "60000/60000 [==============================] - 1s 25us/step - loss: 0.1118 - val_loss: 0.1096\n",
      "Epoch 36/100\n",
      "60000/60000 [==============================] - 2s 25us/step - loss: 0.1108 - val_loss: 0.1087\n",
      "Epoch 37/100\n",
      "60000/60000 [==============================] - 2s 25us/step - loss: 0.1099 - val_loss: 0.1078\n",
      "Epoch 38/100\n",
      "60000/60000 [==============================] - 2s 26us/step - loss: 0.1090 - val_loss: 0.1069\n",
      "Epoch 39/100\n",
      "60000/60000 [==============================] - 1s 25us/step - loss: 0.1082 - val_loss: 0.1061\n",
      "Epoch 40/100\n",
      "60000/60000 [==============================] - 1s 25us/step - loss: 0.1074 - val_loss: 0.1054\n",
      "Epoch 41/100\n",
      "60000/60000 [==============================] - 2s 25us/step - loss: 0.1067 - val_loss: 0.1047\n",
      "Epoch 42/100\n",
      "60000/60000 [==============================] - 2s 25us/step - loss: 0.1061 - val_loss: 0.1041\n",
      "Epoch 43/100\n",
      "60000/60000 [==============================] - 2s 25us/step - loss: 0.1055 - val_loss: 0.1035\n",
      "Epoch 44/100\n",
      "60000/60000 [==============================] - 2s 25us/step - loss: 0.1049 - val_loss: 0.1030\n",
      "Epoch 45/100\n",
      "60000/60000 [==============================] - 2s 25us/step - loss: 0.1044 - val_loss: 0.1025\n",
      "Epoch 46/100\n",
      "60000/60000 [==============================] - 2s 25us/step - loss: 0.1039 - val_loss: 0.1020\n",
      "Epoch 47/100\n",
      "60000/60000 [==============================] - 2s 25us/step - loss: 0.1034 - val_loss: 0.1015\n",
      "Epoch 48/100\n",
      "60000/60000 [==============================] - 1s 25us/step - loss: 0.1030 - val_loss: 0.1011\n",
      "Epoch 49/100\n",
      "60000/60000 [==============================] - 1s 25us/step - loss: 0.1025 - val_loss: 0.1007\n",
      "Epoch 50/100\n",
      "60000/60000 [==============================] - 2s 25us/step - loss: 0.1022 - val_loss: 0.1003\n",
      "Epoch 51/100\n",
      "60000/60000 [==============================] - 1s 25us/step - loss: 0.1018 - val_loss: 0.1000\n",
      "Epoch 52/100\n",
      "60000/60000 [==============================] - 2s 25us/step - loss: 0.1014 - val_loss: 0.0996\n",
      "Epoch 53/100\n",
      "60000/60000 [==============================] - 2s 25us/step - loss: 0.1011 - val_loss: 0.0993\n",
      "Epoch 54/100\n",
      "60000/60000 [==============================] - 2s 25us/step - loss: 0.1008 - val_loss: 0.0991\n",
      "Epoch 55/100\n",
      "60000/60000 [==============================] - 2s 25us/step - loss: 0.1005 - val_loss: 0.0988\n",
      "Epoch 56/100\n",
      "60000/60000 [==============================] - 2s 25us/step - loss: 0.1002 - val_loss: 0.0985\n",
      "Epoch 57/100\n",
      "60000/60000 [==============================] - 2s 25us/step - loss: 0.1000 - val_loss: 0.0983\n",
      "Epoch 58/100\n",
      "60000/60000 [==============================] - 1s 25us/step - loss: 0.0997 - val_loss: 0.0980\n",
      "Epoch 59/100\n",
      "60000/60000 [==============================] - 2s 25us/step - loss: 0.0995 - val_loss: 0.0978\n",
      "Epoch 60/100\n",
      "60000/60000 [==============================] - 2s 25us/step - loss: 0.0993 - val_loss: 0.0976\n",
      "Epoch 61/100\n",
      "60000/60000 [==============================] - 2s 25us/step - loss: 0.0990 - val_loss: 0.0974\n",
      "Epoch 62/100\n",
      "60000/60000 [==============================] - 2s 25us/step - loss: 0.0988 - val_loss: 0.0972\n",
      "Epoch 63/100\n",
      "60000/60000 [==============================] - 2s 25us/step - loss: 0.0987 - val_loss: 0.0970\n",
      "Epoch 64/100\n",
      "60000/60000 [==============================] - 2s 25us/step - loss: 0.0985 - val_loss: 0.0968\n",
      "Epoch 65/100\n",
      "60000/60000 [==============================] - 1s 25us/step - loss: 0.0983 - val_loss: 0.0966\n",
      "Epoch 66/100\n",
      "60000/60000 [==============================] - 2s 25us/step - loss: 0.0981 - val_loss: 0.0965\n",
      "Epoch 67/100\n",
      "60000/60000 [==============================] - 2s 25us/step - loss: 0.0980 - val_loss: 0.0963\n",
      "Epoch 68/100\n",
      "60000/60000 [==============================] - 2s 25us/step - loss: 0.0978 - val_loss: 0.0962\n",
      "Epoch 69/100\n",
      "60000/60000 [==============================] - 2s 25us/step - loss: 0.0977 - val_loss: 0.0960\n",
      "Epoch 70/100\n",
      "60000/60000 [==============================] - 2s 25us/step - loss: 0.0975 - val_loss: 0.0959\n",
      "Epoch 71/100\n",
      "60000/60000 [==============================] - 1s 25us/step - loss: 0.0974 - val_loss: 0.0958\n",
      "Epoch 72/100\n",
      "60000/60000 [==============================] - 2s 25us/step - loss: 0.0973 - val_loss: 0.0957\n",
      "Epoch 73/100\n",
      "60000/60000 [==============================] - 1s 25us/step - loss: 0.0972 - val_loss: 0.0956\n",
      "Epoch 74/100\n",
      "60000/60000 [==============================] - 2s 25us/step - loss: 0.0970 - val_loss: 0.0955\n",
      "Epoch 75/100\n",
      "60000/60000 [==============================] - 1s 25us/step - loss: 0.0969 - val_loss: 0.0954\n",
      "Epoch 76/100\n",
      "60000/60000 [==============================] - 2s 25us/step - loss: 0.0968 - val_loss: 0.0953\n",
      "Epoch 77/100\n"
     ]
    },
    {
     "name": "stdout",
     "output_type": "stream",
     "text": [
      "60000/60000 [==============================] - 1s 25us/step - loss: 0.0967 - val_loss: 0.0952\n",
      "Epoch 78/100\n",
      "60000/60000 [==============================] - 1s 25us/step - loss: 0.0967 - val_loss: 0.0951\n",
      "Epoch 79/100\n",
      "60000/60000 [==============================] - 1s 25us/step - loss: 0.0966 - val_loss: 0.0950\n",
      "Epoch 80/100\n",
      "60000/60000 [==============================] - 2s 25us/step - loss: 0.0965 - val_loss: 0.0949\n",
      "Epoch 81/100\n",
      "60000/60000 [==============================] - 2s 25us/step - loss: 0.0964 - val_loss: 0.0949\n",
      "Epoch 82/100\n",
      "60000/60000 [==============================] - 1s 25us/step - loss: 0.0963 - val_loss: 0.0948\n",
      "Epoch 83/100\n",
      "60000/60000 [==============================] - 1s 25us/step - loss: 0.0963 - val_loss: 0.0947\n",
      "Epoch 84/100\n",
      "60000/60000 [==============================] - 1s 25us/step - loss: 0.0962 - val_loss: 0.0947\n",
      "Epoch 85/100\n",
      "60000/60000 [==============================] - 1s 24us/step - loss: 0.0961 - val_loss: 0.0946\n",
      "Epoch 86/100\n",
      "60000/60000 [==============================] - 1s 25us/step - loss: 0.0961 - val_loss: 0.0946\n",
      "Epoch 87/100\n",
      "60000/60000 [==============================] - 1s 25us/step - loss: 0.0960 - val_loss: 0.0945\n",
      "Epoch 88/100\n",
      "60000/60000 [==============================] - 1s 25us/step - loss: 0.0960 - val_loss: 0.0944\n",
      "Epoch 89/100\n",
      "60000/60000 [==============================] - 1s 25us/step - loss: 0.0959 - val_loss: 0.0944\n",
      "Epoch 90/100\n",
      "60000/60000 [==============================] - 2s 25us/step - loss: 0.0959 - val_loss: 0.0944\n",
      "Epoch 91/100\n",
      "60000/60000 [==============================] - 1s 25us/step - loss: 0.0958 - val_loss: 0.0943\n",
      "Epoch 92/100\n",
      "60000/60000 [==============================] - 2s 25us/step - loss: 0.0958 - val_loss: 0.0943\n",
      "Epoch 93/100\n",
      "60000/60000 [==============================] - 2s 25us/step - loss: 0.0957 - val_loss: 0.0942\n",
      "Epoch 94/100\n",
      "60000/60000 [==============================] - 2s 25us/step - loss: 0.0957 - val_loss: 0.0942\n",
      "Epoch 95/100\n",
      "60000/60000 [==============================] - 1s 25us/step - loss: 0.0956 - val_loss: 0.0941\n",
      "Epoch 96/100\n",
      "60000/60000 [==============================] - 2s 25us/step - loss: 0.0956 - val_loss: 0.0941\n",
      "Epoch 97/100\n",
      "60000/60000 [==============================] - 1s 25us/step - loss: 0.0956 - val_loss: 0.0940\n",
      "Epoch 98/100\n",
      "60000/60000 [==============================] - 2s 25us/step - loss: 0.0955 - val_loss: 0.0940\n",
      "Epoch 99/100\n",
      "60000/60000 [==============================] - 1s 25us/step - loss: 0.0955 - val_loss: 0.0940\n",
      "Epoch 100/100\n",
      "60000/60000 [==============================] - 1s 25us/step - loss: 0.0954 - val_loss: 0.0940\n"
     ]
    },
    {
     "data": {
      "text/plain": [
       "<keras.callbacks.History at 0x7f6f30559908>"
      ]
     },
     "execution_count": 14,
     "metadata": {},
     "output_type": "execute_result"
    }
   ],
   "source": [
    "autoencoder.fit(x_train, x_train,\n",
    "                epochs=nb_epoch,\n",
    "                batch_size=256,\n",
    "                shuffle=True,\n",
    "                validation_data=(x_test, x_test))"
   ]
  },
  {
   "cell_type": "code",
   "execution_count": 15,
   "metadata": {},
   "outputs": [],
   "source": [
    "# encode and decode some digits\n",
    "# note that we take them from the *test* set\n",
    "encoded_imgs = encoder.predict(x_test)\n",
    "decoded_imgs = decoder.predict(encoded_imgs)"
   ]
  },
  {
   "cell_type": "code",
   "execution_count": 27,
   "metadata": {},
   "outputs": [
    {
     "name": "stdout",
     "output_type": "stream",
     "text": [
      "0.13251467\n",
      "0.13317312\n"
     ]
    }
   ],
   "source": [
    "print(x_test.mean())\n",
    "print(decoded_imgs.mean())"
   ]
  },
  {
   "cell_type": "code",
   "execution_count": 28,
   "metadata": {},
   "outputs": [
    {
     "name": "stdout",
     "output_type": "stream",
     "text": [
      "9.064374\n",
      "4.7990303\n"
     ]
    }
   ],
   "source": [
    "print(encoded_imgs.mean())\n",
    "print(encoded_imgs.std())"
   ]
  },
  {
   "cell_type": "code",
   "execution_count": 23,
   "metadata": {},
   "outputs": [
    {
     "data": {
      "image/png": "[encoded data removed]",
      "text/plain": [
       "<Figure size 720x288 with 30 Axes>"
      ]
     },
     "metadata": {},
     "output_type": "display_data"
    }
   ],
   "source": [
    "import matplotlib.pyplot as plt\n",
    "\n",
    "n = 10  # how many digits we will display\n",
    "plt.figure(figsize=(10, 4))\n",
    "\n",
    "for i in range(n):\n",
    "    # display original\n",
    "    ax = plt.subplot(3, n, i + 1)\n",
    "    if i==n//2:\n",
    "        plt.title('Simplest')\n",
    "    plt.imshow(x_test[i].reshape(28, 28))\n",
    "    plt.gray()\n",
    "    ax.get_xaxis().set_visible(False)\n",
    "    ax.get_yaxis().set_visible(False)\n",
    "\n",
    "    # display encoded images\n",
    "    ax = plt.subplot(3, n, i + 1 + 1*n)\n",
    "    plt.imshow(encoded_imgs[i].reshape(8,4))\n",
    "    plt.gray()\n",
    "    ax.get_xaxis().set_visible(False)\n",
    "    ax.get_yaxis().set_visible(False)\n",
    "    \n",
    "    # display reconstruction\n",
    "    ax = plt.subplot(3, n, i + 1 + 2*n)\n",
    "    plt.imshow(decoded_imgs[i].reshape(28, 28))\n",
    "    plt.gray()\n",
    "    ax.get_xaxis().set_visible(False)\n",
    "    ax.get_yaxis().set_visible(False)\n",
    "\n",
    "plt.show()"
   ]
  },
  {
   "cell_type": "markdown",
   "metadata": {},
   "source": [
    "References\n",
    "* https://blog.keras.io/building-autoencoders-in-keras.html\n",
    "* https://medium.com/datadriveninvestor/deep-autoencoder-using-keras-b77cd3e8be95"
   ]
  }
 ],
 "metadata": {
  "kernelspec": {
   "display_name": "Py35_keras",
   "language": "python",
   "name": "py35_keras"
  },
  "language_info": {
   "codemirror_mode": {
    "name": "ipython",
    "version": 3
   },
   "file_extension": ".py",
   "mimetype": "text/x-python",
   "name": "python",
   "nbconvert_exporter": "python",
   "pygments_lexer": "ipython3",
   "version": "3.5.2"
  }
 },
 "nbformat": 4,
 "nbformat_minor": 2
}
